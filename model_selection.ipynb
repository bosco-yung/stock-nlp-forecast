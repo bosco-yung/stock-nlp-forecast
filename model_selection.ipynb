{
 "cells": [
  {
   "cell_type": "code",
   "execution_count": 2,
   "metadata": {
    "colab": {
     "base_uri": "https://localhost:8080/"
    },
    "executionInfo": {
     "elapsed": 38452,
     "status": "ok",
     "timestamp": 1733694531255,
     "user": {
      "displayName": "Benjamin Weber",
      "userId": "05365051417082569684"
     },
     "user_tz": 300
    },
    "id": "gzPKwKniOhef",
    "outputId": "d8c58873-c438-4752-a500-2d7e93ee3b4d"
   },
   "outputs": [],
   "source": [
    "import os\n",
    "\n",
    "import statsmodels.api as sm\n",
    "import statsmodels.formula.api as smf\n",
    "from sklearn.model_selection import train_test_split\n",
    "from sklearn.linear_model import LogisticRegression\n",
    "from sklearn.model_selection import cross_val_score, KFold\n",
    "from sklearn.metrics import accuracy_score, classification_report\n",
    "from sklearn.metrics import confusion_matrix\n",
    "from sklearn.metrics import roc_curve, auc\n",
    "import matplotlib.pyplot as plt\n",
    "import pandas as pd\n",
    "import numpy as np\n",
    "\n",
    "#from logistic_probability import MultiLogisticProbability"
   ]
  },
  {
   "cell_type": "code",
   "execution_count": 3,
   "metadata": {
    "executionInfo": {
     "elapsed": 403,
     "status": "ok",
     "timestamp": 1733694539971,
     "user": {
      "displayName": "Benjamin Weber",
      "userId": "05365051417082569684"
     },
     "user_tz": 300
    },
    "id": "nNk84GyRPmoy"
   },
   "outputs": [],
   "source": [
    "df = pd.read_csv('complete_df.csv', usecols= ['ticker', 'time', 'post title sentiment_score',\n",
    "                                               'post body sentiment_score', 'comment sentiment_score',\n",
    "                                               'Volume', 'Movement', 'Volume MA', 'Previous Movement'])"
   ]
  },
  {
   "cell_type": "code",
   "execution_count": 4,
   "metadata": {
    "executionInfo": {
     "elapsed": 126,
     "status": "ok",
     "timestamp": 1733694546757,
     "user": {
      "displayName": "Benjamin Weber",
      "userId": "05365051417082569684"
     },
     "user_tz": 300
    },
    "id": "qv4d1VDvRWwG"
   },
   "outputs": [],
   "source": [
    "df.set_index(['ticker', 'time'], inplace=True)\n",
    "X = df.loc[:, ~df.columns.str.contains('^Movement$')].iloc[1:] # for each ticker?\n",
    "y = df.loc[:, 'Movement'].iloc[1:]"
   ]
  },
  {
   "cell_type": "code",
   "execution_count": 5,
   "metadata": {},
   "outputs": [
    {
     "data": {
      "text/html": [
       "<div>\n",
       "<style scoped>\n",
       "    .dataframe tbody tr th:only-of-type {\n",
       "        vertical-align: middle;\n",
       "    }\n",
       "\n",
       "    .dataframe tbody tr th {\n",
       "        vertical-align: top;\n",
       "    }\n",
       "\n",
       "    .dataframe thead th {\n",
       "        text-align: right;\n",
       "    }\n",
       "</style>\n",
       "<table border=\"1\" class=\"dataframe\">\n",
       "  <thead>\n",
       "    <tr style=\"text-align: right;\">\n",
       "      <th></th>\n",
       "      <th></th>\n",
       "      <th>post title sentiment_score</th>\n",
       "      <th>post body sentiment_score</th>\n",
       "      <th>comment sentiment_score</th>\n",
       "      <th>Volume</th>\n",
       "      <th>Volume MA</th>\n",
       "      <th>Previous Movement</th>\n",
       "    </tr>\n",
       "    <tr>\n",
       "      <th>ticker</th>\n",
       "      <th>time</th>\n",
       "      <th></th>\n",
       "      <th></th>\n",
       "      <th></th>\n",
       "      <th></th>\n",
       "      <th></th>\n",
       "      <th></th>\n",
       "    </tr>\n",
       "  </thead>\n",
       "  <tbody>\n",
       "    <tr>\n",
       "      <th rowspan=\"5\" valign=\"top\">AAPL</th>\n",
       "      <th>2025-06-10</th>\n",
       "      <td>-0.256200</td>\n",
       "      <td>0.487567</td>\n",
       "      <td>0.137300</td>\n",
       "      <td>54672600</td>\n",
       "      <td>49138300.0</td>\n",
       "      <td>0.0</td>\n",
       "    </tr>\n",
       "    <tr>\n",
       "      <th>2025-06-11</th>\n",
       "      <td>0.000000</td>\n",
       "      <td>0.101167</td>\n",
       "      <td>0.328510</td>\n",
       "      <td>60989900</td>\n",
       "      <td>57831250.0</td>\n",
       "      <td>1.0</td>\n",
       "    </tr>\n",
       "    <tr>\n",
       "      <th>2025-06-12</th>\n",
       "      <td>0.128000</td>\n",
       "      <td>-0.257600</td>\n",
       "      <td>0.270236</td>\n",
       "      <td>43904600</td>\n",
       "      <td>52447250.0</td>\n",
       "      <td>0.0</td>\n",
       "    </tr>\n",
       "    <tr>\n",
       "      <th>2025-06-18</th>\n",
       "      <td>-0.210750</td>\n",
       "      <td>-0.338200</td>\n",
       "      <td>0.202336</td>\n",
       "      <td>45394700</td>\n",
       "      <td>44649650.0</td>\n",
       "      <td>1.0</td>\n",
       "    </tr>\n",
       "    <tr>\n",
       "      <th>2025-06-20</th>\n",
       "      <td>0.000000</td>\n",
       "      <td>0.000000</td>\n",
       "      <td>0.123950</td>\n",
       "      <td>96813500</td>\n",
       "      <td>71104100.0</td>\n",
       "      <td>1.0</td>\n",
       "    </tr>\n",
       "    <tr>\n",
       "      <th>...</th>\n",
       "      <th>...</th>\n",
       "      <td>...</td>\n",
       "      <td>...</td>\n",
       "      <td>...</td>\n",
       "      <td>...</td>\n",
       "      <td>...</td>\n",
       "      <td>...</td>\n",
       "    </tr>\n",
       "    <tr>\n",
       "      <th rowspan=\"5\" valign=\"top\">AMZN</th>\n",
       "      <th>2025-10-13</th>\n",
       "      <td>0.100675</td>\n",
       "      <td>0.312550</td>\n",
       "      <td>0.311857</td>\n",
       "      <td>37809700</td>\n",
       "      <td>55088600.0</td>\n",
       "      <td>0.0</td>\n",
       "    </tr>\n",
       "    <tr>\n",
       "      <th>2025-10-14</th>\n",
       "      <td>0.070433</td>\n",
       "      <td>0.000000</td>\n",
       "      <td>0.248811</td>\n",
       "      <td>45665600</td>\n",
       "      <td>41737650.0</td>\n",
       "      <td>1.0</td>\n",
       "    </tr>\n",
       "    <tr>\n",
       "      <th>2025-10-15</th>\n",
       "      <td>0.000000</td>\n",
       "      <td>0.102120</td>\n",
       "      <td>0.091945</td>\n",
       "      <td>45909500</td>\n",
       "      <td>45787550.0</td>\n",
       "      <td>1.0</td>\n",
       "    </tr>\n",
       "    <tr>\n",
       "      <th>2025-10-16</th>\n",
       "      <td>-0.165775</td>\n",
       "      <td>-0.145550</td>\n",
       "      <td>0.080631</td>\n",
       "      <td>42414600</td>\n",
       "      <td>44162050.0</td>\n",
       "      <td>0.0</td>\n",
       "    </tr>\n",
       "    <tr>\n",
       "      <th>2025-10-17</th>\n",
       "      <td>0.009483</td>\n",
       "      <td>0.000000</td>\n",
       "      <td>0.054264</td>\n",
       "      <td>45986900</td>\n",
       "      <td>44200750.0</td>\n",
       "      <td>0.0</td>\n",
       "    </tr>\n",
       "  </tbody>\n",
       "</table>\n",
       "<p>177 rows × 6 columns</p>\n",
       "</div>"
      ],
      "text/plain": [
       "                   post title sentiment_score  post body sentiment_score  \\\n",
       "ticker time                                                                \n",
       "AAPL   2025-06-10                   -0.256200                   0.487567   \n",
       "       2025-06-11                    0.000000                   0.101167   \n",
       "       2025-06-12                    0.128000                  -0.257600   \n",
       "       2025-06-18                   -0.210750                  -0.338200   \n",
       "       2025-06-20                    0.000000                   0.000000   \n",
       "...                                       ...                        ...   \n",
       "AMZN   2025-10-13                    0.100675                   0.312550   \n",
       "       2025-10-14                    0.070433                   0.000000   \n",
       "       2025-10-15                    0.000000                   0.102120   \n",
       "       2025-10-16                   -0.165775                  -0.145550   \n",
       "       2025-10-17                    0.009483                   0.000000   \n",
       "\n",
       "                   comment sentiment_score    Volume   Volume MA  \\\n",
       "ticker time                                                        \n",
       "AAPL   2025-06-10                 0.137300  54672600  49138300.0   \n",
       "       2025-06-11                 0.328510  60989900  57831250.0   \n",
       "       2025-06-12                 0.270236  43904600  52447250.0   \n",
       "       2025-06-18                 0.202336  45394700  44649650.0   \n",
       "       2025-06-20                 0.123950  96813500  71104100.0   \n",
       "...                                    ...       ...         ...   \n",
       "AMZN   2025-10-13                 0.311857  37809700  55088600.0   \n",
       "       2025-10-14                 0.248811  45665600  41737650.0   \n",
       "       2025-10-15                 0.091945  45909500  45787550.0   \n",
       "       2025-10-16                 0.080631  42414600  44162050.0   \n",
       "       2025-10-17                 0.054264  45986900  44200750.0   \n",
       "\n",
       "                   Previous Movement  \n",
       "ticker time                           \n",
       "AAPL   2025-06-10                0.0  \n",
       "       2025-06-11                1.0  \n",
       "       2025-06-12                0.0  \n",
       "       2025-06-18                1.0  \n",
       "       2025-06-20                1.0  \n",
       "...                              ...  \n",
       "AMZN   2025-10-13                0.0  \n",
       "       2025-10-14                1.0  \n",
       "       2025-10-15                1.0  \n",
       "       2025-10-16                0.0  \n",
       "       2025-10-17                0.0  \n",
       "\n",
       "[177 rows x 6 columns]"
      ]
     },
     "execution_count": 5,
     "metadata": {},
     "output_type": "execute_result"
    }
   ],
   "source": [
    "X"
   ]
  },
  {
   "cell_type": "code",
   "execution_count": 6,
   "metadata": {},
   "outputs": [
    {
     "data": {
      "text/plain": [
       "ticker  time      \n",
       "AAPL    2025-06-10    1\n",
       "        2025-06-11    0\n",
       "        2025-06-12    1\n",
       "        2025-06-18    1\n",
       "        2025-06-20    1\n",
       "                     ..\n",
       "AMZN    2025-10-13    1\n",
       "        2025-10-14    1\n",
       "        2025-10-15    0\n",
       "        2025-10-16    0\n",
       "        2025-10-17    0\n",
       "Name: Movement, Length: 177, dtype: int64"
      ]
     },
     "execution_count": 6,
     "metadata": {},
     "output_type": "execute_result"
    }
   ],
   "source": [
    "y"
   ]
  },
  {
   "cell_type": "code",
   "execution_count": 7,
   "metadata": {
    "colab": {
     "base_uri": "https://localhost:8080/"
    },
    "executionInfo": {
     "elapsed": 134,
     "status": "ok",
     "timestamp": 1733622387872,
     "user": {
      "displayName": "Benjamin Weber",
      "userId": "05365051417082569684"
     },
     "user_tz": 300
    },
    "id": "Rx5sFvlWRoQo",
    "outputId": "d6cd0052-b438-40fc-f8a4-e6f6f9ea75d2"
   },
   "outputs": [
    {
     "name": "stdout",
     "output_type": "stream",
     "text": [
      "Dropped Previous Movement: p-value 0.9144087815333681\n",
      "Dropped post title sentiment_score: p-value 0.6352264801991152\n",
      "Dropped post body sentiment_score: p-value 0.3817315787076443\n",
      "Dropped const: p-value 0.21038227088188066\n",
      "Dropped Volume MA: p-value 0.20587667737694826\n",
      "Dropped Volume: p-value 0.5698610512386275\n",
      "Final set of features: ['comment sentiment_score']\n"
     ]
    }
   ],
   "source": [
    "def backward_elimination(data, target, significance_level=0.05):\n",
    "    initial_features = data.columns.tolist()\n",
    "    dependent_var = target.reset_index(drop=True)\n",
    "    independent_vars = data.reset_index(drop=True)\n",
    "    features = sm.add_constant(independent_vars)\n",
    "\n",
    "    while len(features.columns) > 1:\n",
    "        model = sm.GLM(dependent_var, features, family=sm.families.Binomial()).fit()\n",
    "        max_p_value = max(model.pvalues)\n",
    "\n",
    "        if max_p_value > significance_level:\n",
    "            excluded_feature = model.pvalues.idxmax()\n",
    "            features = features.drop(columns=[excluded_feature])\n",
    "            print(f\"Dropped {excluded_feature}: p-value {max_p_value}\")\n",
    "        else:\n",
    "            break\n",
    "\n",
    "    return features.columns.tolist(), model\n",
    "\n",
    "# Perform backward elimination\n",
    "final_features, final_model = backward_elimination(X, y)\n",
    "print(\"Final set of features:\", final_features)"
   ]
  },
  {
   "cell_type": "code",
   "execution_count": 8,
   "metadata": {
    "colab": {
     "base_uri": "https://localhost:8080/"
    },
    "executionInfo": {
     "elapsed": 125,
     "status": "ok",
     "timestamp": 1733625523060,
     "user": {
      "displayName": "Benjamin Weber",
      "userId": "05365051417082569684"
     },
     "user_tz": 300
    },
    "id": "H9rIQ3lRIaSG",
    "outputId": "ab23ed43-93c5-4ef7-ccad-140ef3108b12"
   },
   "outputs": [],
   "source": [
    "from sklearn.linear_model import LogisticRegression\n",
    "from sklearn.model_selection import KFold, cross_val_score"
   ]
  },
  {
   "cell_type": "code",
   "execution_count": 9,
   "metadata": {
    "colab": {
     "base_uri": "https://localhost:8080/"
    },
    "executionInfo": {
     "elapsed": 233,
     "status": "ok",
     "timestamp": 1733625544175,
     "user": {
      "displayName": "Benjamin Weber",
      "userId": "05365051417082569684"
     },
     "user_tz": 300
    },
    "id": "RBY7jFijT2Nj",
    "outputId": "d1860c17-6e0c-4e05-f9ea-c4f296b2c9a4"
   },
   "outputs": [],
   "source": [
    "model = LogisticRegression()\n",
    "kfold = KFold(n_splits=5, shuffle=True)\n",
    "scores = cross_val_score(model, X, y, cv=kfold, scoring=\"neg_log_loss\")"
   ]
  },
  {
   "cell_type": "code",
   "execution_count": 10,
   "metadata": {
    "colab": {
     "base_uri": "https://localhost:8080/"
    },
    "executionInfo": {
     "elapsed": 146,
     "status": "ok",
     "timestamp": 1733625546276,
     "user": {
      "displayName": "Benjamin Weber",
      "userId": "05365051417082569684"
     },
     "user_tz": 300
    },
    "id": "NHZvfGY-jRI9",
    "outputId": "17cae31d-4a49-4225-c153-04a8461eed7d"
   },
   "outputs": [
    {
     "data": {
      "text/plain": [
       "-0.6977133582704216"
      ]
     },
     "execution_count": 10,
     "metadata": {},
     "output_type": "execute_result"
    }
   ],
   "source": [
    "scores.mean()"
   ]
  },
  {
   "cell_type": "code",
   "execution_count": 11,
   "metadata": {
    "colab": {
     "base_uri": "https://localhost:8080/",
     "height": 80
    },
    "executionInfo": {
     "elapsed": 132,
     "status": "ok",
     "timestamp": 1733623981397,
     "user": {
      "displayName": "Benjamin Weber",
      "userId": "05365051417082569684"
     },
     "user_tz": 300
    },
    "id": "RGH6jk0UY-tn",
    "outputId": "b6b4fdac-8f3b-4122-8a66-e453a9d8b2b9"
   },
   "outputs": [
    {
     "data": {
      "text/html": [
       "<style>#sk-container-id-1 {\n",
       "  /* Definition of color scheme common for light and dark mode */\n",
       "  --sklearn-color-text: #000;\n",
       "  --sklearn-color-text-muted: #666;\n",
       "  --sklearn-color-line: gray;\n",
       "  /* Definition of color scheme for unfitted estimators */\n",
       "  --sklearn-color-unfitted-level-0: #fff5e6;\n",
       "  --sklearn-color-unfitted-level-1: #f6e4d2;\n",
       "  --sklearn-color-unfitted-level-2: #ffe0b3;\n",
       "  --sklearn-color-unfitted-level-3: chocolate;\n",
       "  /* Definition of color scheme for fitted estimators */\n",
       "  --sklearn-color-fitted-level-0: #f0f8ff;\n",
       "  --sklearn-color-fitted-level-1: #d4ebff;\n",
       "  --sklearn-color-fitted-level-2: #b3dbfd;\n",
       "  --sklearn-color-fitted-level-3: cornflowerblue;\n",
       "\n",
       "  /* Specific color for light theme */\n",
       "  --sklearn-color-text-on-default-background: var(--sg-text-color, var(--theme-code-foreground, var(--jp-content-font-color1, black)));\n",
       "  --sklearn-color-background: var(--sg-background-color, var(--theme-background, var(--jp-layout-color0, white)));\n",
       "  --sklearn-color-border-box: var(--sg-text-color, var(--theme-code-foreground, var(--jp-content-font-color1, black)));\n",
       "  --sklearn-color-icon: #696969;\n",
       "\n",
       "  @media (prefers-color-scheme: dark) {\n",
       "    /* Redefinition of color scheme for dark theme */\n",
       "    --sklearn-color-text-on-default-background: var(--sg-text-color, var(--theme-code-foreground, var(--jp-content-font-color1, white)));\n",
       "    --sklearn-color-background: var(--sg-background-color, var(--theme-background, var(--jp-layout-color0, #111)));\n",
       "    --sklearn-color-border-box: var(--sg-text-color, var(--theme-code-foreground, var(--jp-content-font-color1, white)));\n",
       "    --sklearn-color-icon: #878787;\n",
       "  }\n",
       "}\n",
       "\n",
       "#sk-container-id-1 {\n",
       "  color: var(--sklearn-color-text);\n",
       "}\n",
       "\n",
       "#sk-container-id-1 pre {\n",
       "  padding: 0;\n",
       "}\n",
       "\n",
       "#sk-container-id-1 input.sk-hidden--visually {\n",
       "  border: 0;\n",
       "  clip: rect(1px 1px 1px 1px);\n",
       "  clip: rect(1px, 1px, 1px, 1px);\n",
       "  height: 1px;\n",
       "  margin: -1px;\n",
       "  overflow: hidden;\n",
       "  padding: 0;\n",
       "  position: absolute;\n",
       "  width: 1px;\n",
       "}\n",
       "\n",
       "#sk-container-id-1 div.sk-dashed-wrapped {\n",
       "  border: 1px dashed var(--sklearn-color-line);\n",
       "  margin: 0 0.4em 0.5em 0.4em;\n",
       "  box-sizing: border-box;\n",
       "  padding-bottom: 0.4em;\n",
       "  background-color: var(--sklearn-color-background);\n",
       "}\n",
       "\n",
       "#sk-container-id-1 div.sk-container {\n",
       "  /* jupyter's `normalize.less` sets `[hidden] { display: none; }`\n",
       "     but bootstrap.min.css set `[hidden] { display: none !important; }`\n",
       "     so we also need the `!important` here to be able to override the\n",
       "     default hidden behavior on the sphinx rendered scikit-learn.org.\n",
       "     See: https://github.com/scikit-learn/scikit-learn/issues/21755 */\n",
       "  display: inline-block !important;\n",
       "  position: relative;\n",
       "}\n",
       "\n",
       "#sk-container-id-1 div.sk-text-repr-fallback {\n",
       "  display: none;\n",
       "}\n",
       "\n",
       "div.sk-parallel-item,\n",
       "div.sk-serial,\n",
       "div.sk-item {\n",
       "  /* draw centered vertical line to link estimators */\n",
       "  background-image: linear-gradient(var(--sklearn-color-text-on-default-background), var(--sklearn-color-text-on-default-background));\n",
       "  background-size: 2px 100%;\n",
       "  background-repeat: no-repeat;\n",
       "  background-position: center center;\n",
       "}\n",
       "\n",
       "/* Parallel-specific style estimator block */\n",
       "\n",
       "#sk-container-id-1 div.sk-parallel-item::after {\n",
       "  content: \"\";\n",
       "  width: 100%;\n",
       "  border-bottom: 2px solid var(--sklearn-color-text-on-default-background);\n",
       "  flex-grow: 1;\n",
       "}\n",
       "\n",
       "#sk-container-id-1 div.sk-parallel {\n",
       "  display: flex;\n",
       "  align-items: stretch;\n",
       "  justify-content: center;\n",
       "  background-color: var(--sklearn-color-background);\n",
       "  position: relative;\n",
       "}\n",
       "\n",
       "#sk-container-id-1 div.sk-parallel-item {\n",
       "  display: flex;\n",
       "  flex-direction: column;\n",
       "}\n",
       "\n",
       "#sk-container-id-1 div.sk-parallel-item:first-child::after {\n",
       "  align-self: flex-end;\n",
       "  width: 50%;\n",
       "}\n",
       "\n",
       "#sk-container-id-1 div.sk-parallel-item:last-child::after {\n",
       "  align-self: flex-start;\n",
       "  width: 50%;\n",
       "}\n",
       "\n",
       "#sk-container-id-1 div.sk-parallel-item:only-child::after {\n",
       "  width: 0;\n",
       "}\n",
       "\n",
       "/* Serial-specific style estimator block */\n",
       "\n",
       "#sk-container-id-1 div.sk-serial {\n",
       "  display: flex;\n",
       "  flex-direction: column;\n",
       "  align-items: center;\n",
       "  background-color: var(--sklearn-color-background);\n",
       "  padding-right: 1em;\n",
       "  padding-left: 1em;\n",
       "}\n",
       "\n",
       "\n",
       "/* Toggleable style: style used for estimator/Pipeline/ColumnTransformer box that is\n",
       "clickable and can be expanded/collapsed.\n",
       "- Pipeline and ColumnTransformer use this feature and define the default style\n",
       "- Estimators will overwrite some part of the style using the `sk-estimator` class\n",
       "*/\n",
       "\n",
       "/* Pipeline and ColumnTransformer style (default) */\n",
       "\n",
       "#sk-container-id-1 div.sk-toggleable {\n",
       "  /* Default theme specific background. It is overwritten whether we have a\n",
       "  specific estimator or a Pipeline/ColumnTransformer */\n",
       "  background-color: var(--sklearn-color-background);\n",
       "}\n",
       "\n",
       "/* Toggleable label */\n",
       "#sk-container-id-1 label.sk-toggleable__label {\n",
       "  cursor: pointer;\n",
       "  display: flex;\n",
       "  width: 100%;\n",
       "  margin-bottom: 0;\n",
       "  padding: 0.5em;\n",
       "  box-sizing: border-box;\n",
       "  text-align: center;\n",
       "  align-items: start;\n",
       "  justify-content: space-between;\n",
       "  gap: 0.5em;\n",
       "}\n",
       "\n",
       "#sk-container-id-1 label.sk-toggleable__label .caption {\n",
       "  font-size: 0.6rem;\n",
       "  font-weight: lighter;\n",
       "  color: var(--sklearn-color-text-muted);\n",
       "}\n",
       "\n",
       "#sk-container-id-1 label.sk-toggleable__label-arrow:before {\n",
       "  /* Arrow on the left of the label */\n",
       "  content: \"▸\";\n",
       "  float: left;\n",
       "  margin-right: 0.25em;\n",
       "  color: var(--sklearn-color-icon);\n",
       "}\n",
       "\n",
       "#sk-container-id-1 label.sk-toggleable__label-arrow:hover:before {\n",
       "  color: var(--sklearn-color-text);\n",
       "}\n",
       "\n",
       "/* Toggleable content - dropdown */\n",
       "\n",
       "#sk-container-id-1 div.sk-toggleable__content {\n",
       "  max-height: 0;\n",
       "  max-width: 0;\n",
       "  overflow: hidden;\n",
       "  text-align: left;\n",
       "  /* unfitted */\n",
       "  background-color: var(--sklearn-color-unfitted-level-0);\n",
       "}\n",
       "\n",
       "#sk-container-id-1 div.sk-toggleable__content.fitted {\n",
       "  /* fitted */\n",
       "  background-color: var(--sklearn-color-fitted-level-0);\n",
       "}\n",
       "\n",
       "#sk-container-id-1 div.sk-toggleable__content pre {\n",
       "  margin: 0.2em;\n",
       "  border-radius: 0.25em;\n",
       "  color: var(--sklearn-color-text);\n",
       "  /* unfitted */\n",
       "  background-color: var(--sklearn-color-unfitted-level-0);\n",
       "}\n",
       "\n",
       "#sk-container-id-1 div.sk-toggleable__content.fitted pre {\n",
       "  /* unfitted */\n",
       "  background-color: var(--sklearn-color-fitted-level-0);\n",
       "}\n",
       "\n",
       "#sk-container-id-1 input.sk-toggleable__control:checked~div.sk-toggleable__content {\n",
       "  /* Expand drop-down */\n",
       "  max-height: 200px;\n",
       "  max-width: 100%;\n",
       "  overflow: auto;\n",
       "}\n",
       "\n",
       "#sk-container-id-1 input.sk-toggleable__control:checked~label.sk-toggleable__label-arrow:before {\n",
       "  content: \"▾\";\n",
       "}\n",
       "\n",
       "/* Pipeline/ColumnTransformer-specific style */\n",
       "\n",
       "#sk-container-id-1 div.sk-label input.sk-toggleable__control:checked~label.sk-toggleable__label {\n",
       "  color: var(--sklearn-color-text);\n",
       "  background-color: var(--sklearn-color-unfitted-level-2);\n",
       "}\n",
       "\n",
       "#sk-container-id-1 div.sk-label.fitted input.sk-toggleable__control:checked~label.sk-toggleable__label {\n",
       "  background-color: var(--sklearn-color-fitted-level-2);\n",
       "}\n",
       "\n",
       "/* Estimator-specific style */\n",
       "\n",
       "/* Colorize estimator box */\n",
       "#sk-container-id-1 div.sk-estimator input.sk-toggleable__control:checked~label.sk-toggleable__label {\n",
       "  /* unfitted */\n",
       "  background-color: var(--sklearn-color-unfitted-level-2);\n",
       "}\n",
       "\n",
       "#sk-container-id-1 div.sk-estimator.fitted input.sk-toggleable__control:checked~label.sk-toggleable__label {\n",
       "  /* fitted */\n",
       "  background-color: var(--sklearn-color-fitted-level-2);\n",
       "}\n",
       "\n",
       "#sk-container-id-1 div.sk-label label.sk-toggleable__label,\n",
       "#sk-container-id-1 div.sk-label label {\n",
       "  /* The background is the default theme color */\n",
       "  color: var(--sklearn-color-text-on-default-background);\n",
       "}\n",
       "\n",
       "/* On hover, darken the color of the background */\n",
       "#sk-container-id-1 div.sk-label:hover label.sk-toggleable__label {\n",
       "  color: var(--sklearn-color-text);\n",
       "  background-color: var(--sklearn-color-unfitted-level-2);\n",
       "}\n",
       "\n",
       "/* Label box, darken color on hover, fitted */\n",
       "#sk-container-id-1 div.sk-label.fitted:hover label.sk-toggleable__label.fitted {\n",
       "  color: var(--sklearn-color-text);\n",
       "  background-color: var(--sklearn-color-fitted-level-2);\n",
       "}\n",
       "\n",
       "/* Estimator label */\n",
       "\n",
       "#sk-container-id-1 div.sk-label label {\n",
       "  font-family: monospace;\n",
       "  font-weight: bold;\n",
       "  display: inline-block;\n",
       "  line-height: 1.2em;\n",
       "}\n",
       "\n",
       "#sk-container-id-1 div.sk-label-container {\n",
       "  text-align: center;\n",
       "}\n",
       "\n",
       "/* Estimator-specific */\n",
       "#sk-container-id-1 div.sk-estimator {\n",
       "  font-family: monospace;\n",
       "  border: 1px dotted var(--sklearn-color-border-box);\n",
       "  border-radius: 0.25em;\n",
       "  box-sizing: border-box;\n",
       "  margin-bottom: 0.5em;\n",
       "  /* unfitted */\n",
       "  background-color: var(--sklearn-color-unfitted-level-0);\n",
       "}\n",
       "\n",
       "#sk-container-id-1 div.sk-estimator.fitted {\n",
       "  /* fitted */\n",
       "  background-color: var(--sklearn-color-fitted-level-0);\n",
       "}\n",
       "\n",
       "/* on hover */\n",
       "#sk-container-id-1 div.sk-estimator:hover {\n",
       "  /* unfitted */\n",
       "  background-color: var(--sklearn-color-unfitted-level-2);\n",
       "}\n",
       "\n",
       "#sk-container-id-1 div.sk-estimator.fitted:hover {\n",
       "  /* fitted */\n",
       "  background-color: var(--sklearn-color-fitted-level-2);\n",
       "}\n",
       "\n",
       "/* Specification for estimator info (e.g. \"i\" and \"?\") */\n",
       "\n",
       "/* Common style for \"i\" and \"?\" */\n",
       "\n",
       ".sk-estimator-doc-link,\n",
       "a:link.sk-estimator-doc-link,\n",
       "a:visited.sk-estimator-doc-link {\n",
       "  float: right;\n",
       "  font-size: smaller;\n",
       "  line-height: 1em;\n",
       "  font-family: monospace;\n",
       "  background-color: var(--sklearn-color-background);\n",
       "  border-radius: 1em;\n",
       "  height: 1em;\n",
       "  width: 1em;\n",
       "  text-decoration: none !important;\n",
       "  margin-left: 0.5em;\n",
       "  text-align: center;\n",
       "  /* unfitted */\n",
       "  border: var(--sklearn-color-unfitted-level-1) 1pt solid;\n",
       "  color: var(--sklearn-color-unfitted-level-1);\n",
       "}\n",
       "\n",
       ".sk-estimator-doc-link.fitted,\n",
       "a:link.sk-estimator-doc-link.fitted,\n",
       "a:visited.sk-estimator-doc-link.fitted {\n",
       "  /* fitted */\n",
       "  border: var(--sklearn-color-fitted-level-1) 1pt solid;\n",
       "  color: var(--sklearn-color-fitted-level-1);\n",
       "}\n",
       "\n",
       "/* On hover */\n",
       "div.sk-estimator:hover .sk-estimator-doc-link:hover,\n",
       ".sk-estimator-doc-link:hover,\n",
       "div.sk-label-container:hover .sk-estimator-doc-link:hover,\n",
       ".sk-estimator-doc-link:hover {\n",
       "  /* unfitted */\n",
       "  background-color: var(--sklearn-color-unfitted-level-3);\n",
       "  color: var(--sklearn-color-background);\n",
       "  text-decoration: none;\n",
       "}\n",
       "\n",
       "div.sk-estimator.fitted:hover .sk-estimator-doc-link.fitted:hover,\n",
       ".sk-estimator-doc-link.fitted:hover,\n",
       "div.sk-label-container:hover .sk-estimator-doc-link.fitted:hover,\n",
       ".sk-estimator-doc-link.fitted:hover {\n",
       "  /* fitted */\n",
       "  background-color: var(--sklearn-color-fitted-level-3);\n",
       "  color: var(--sklearn-color-background);\n",
       "  text-decoration: none;\n",
       "}\n",
       "\n",
       "/* Span, style for the box shown on hovering the info icon */\n",
       ".sk-estimator-doc-link span {\n",
       "  display: none;\n",
       "  z-index: 9999;\n",
       "  position: relative;\n",
       "  font-weight: normal;\n",
       "  right: .2ex;\n",
       "  padding: .5ex;\n",
       "  margin: .5ex;\n",
       "  width: min-content;\n",
       "  min-width: 20ex;\n",
       "  max-width: 50ex;\n",
       "  color: var(--sklearn-color-text);\n",
       "  box-shadow: 2pt 2pt 4pt #999;\n",
       "  /* unfitted */\n",
       "  background: var(--sklearn-color-unfitted-level-0);\n",
       "  border: .5pt solid var(--sklearn-color-unfitted-level-3);\n",
       "}\n",
       "\n",
       ".sk-estimator-doc-link.fitted span {\n",
       "  /* fitted */\n",
       "  background: var(--sklearn-color-fitted-level-0);\n",
       "  border: var(--sklearn-color-fitted-level-3);\n",
       "}\n",
       "\n",
       ".sk-estimator-doc-link:hover span {\n",
       "  display: block;\n",
       "}\n",
       "\n",
       "/* \"?\"-specific style due to the `<a>` HTML tag */\n",
       "\n",
       "#sk-container-id-1 a.estimator_doc_link {\n",
       "  float: right;\n",
       "  font-size: 1rem;\n",
       "  line-height: 1em;\n",
       "  font-family: monospace;\n",
       "  background-color: var(--sklearn-color-background);\n",
       "  border-radius: 1rem;\n",
       "  height: 1rem;\n",
       "  width: 1rem;\n",
       "  text-decoration: none;\n",
       "  /* unfitted */\n",
       "  color: var(--sklearn-color-unfitted-level-1);\n",
       "  border: var(--sklearn-color-unfitted-level-1) 1pt solid;\n",
       "}\n",
       "\n",
       "#sk-container-id-1 a.estimator_doc_link.fitted {\n",
       "  /* fitted */\n",
       "  border: var(--sklearn-color-fitted-level-1) 1pt solid;\n",
       "  color: var(--sklearn-color-fitted-level-1);\n",
       "}\n",
       "\n",
       "/* On hover */\n",
       "#sk-container-id-1 a.estimator_doc_link:hover {\n",
       "  /* unfitted */\n",
       "  background-color: var(--sklearn-color-unfitted-level-3);\n",
       "  color: var(--sklearn-color-background);\n",
       "  text-decoration: none;\n",
       "}\n",
       "\n",
       "#sk-container-id-1 a.estimator_doc_link.fitted:hover {\n",
       "  /* fitted */\n",
       "  background-color: var(--sklearn-color-fitted-level-3);\n",
       "}\n",
       "</style><div id=\"sk-container-id-1\" class=\"sk-top-container\"><div class=\"sk-text-repr-fallback\"><pre>LogisticRegression()</pre><b>In a Jupyter environment, please rerun this cell to show the HTML representation or trust the notebook. <br />On GitHub, the HTML representation is unable to render, please try loading this page with nbviewer.org.</b></div><div class=\"sk-container\" hidden><div class=\"sk-item\"><div class=\"sk-estimator fitted sk-toggleable\"><input class=\"sk-toggleable__control sk-hidden--visually\" id=\"sk-estimator-id-1\" type=\"checkbox\" checked><label for=\"sk-estimator-id-1\" class=\"sk-toggleable__label fitted sk-toggleable__label-arrow\"><div><div>LogisticRegression</div></div><div><a class=\"sk-estimator-doc-link fitted\" rel=\"noreferrer\" target=\"_blank\" href=\"https://scikit-learn.org/1.6/modules/generated/sklearn.linear_model.LogisticRegression.html\">?<span>Documentation for LogisticRegression</span></a><span class=\"sk-estimator-doc-link fitted\">i<span>Fitted</span></span></div></label><div class=\"sk-toggleable__content fitted\"><pre>LogisticRegression()</pre></div> </div></div></div></div>"
      ],
      "text/plain": [
       "LogisticRegression()"
      ]
     },
     "execution_count": 11,
     "metadata": {},
     "output_type": "execute_result"
    }
   ],
   "source": [
    "model_full = LogisticRegression()\n",
    "model_full.fit(X, y)"
   ]
  },
  {
   "cell_type": "code",
   "execution_count": 12,
   "metadata": {
    "executionInfo": {
     "elapsed": 137,
     "status": "ok",
     "timestamp": 1733623982311,
     "user": {
      "displayName": "Benjamin Weber",
      "userId": "05365051417082569684"
     },
     "user_tz": 300
    },
    "id": "-9oWL89mUkhb"
   },
   "outputs": [],
   "source": [
    "# instance = MultiLogisticProbability(model_full, model_full.predict(X), .50)"
   ]
  },
  {
   "cell_type": "code",
   "execution_count": 13,
   "metadata": {
    "colab": {
     "base_uri": "https://localhost:8080/"
    },
    "executionInfo": {
     "elapsed": 120,
     "status": "ok",
     "timestamp": 1733623990042,
     "user": {
      "displayName": "Benjamin Weber",
      "userId": "05365051417082569684"
     },
     "user_tz": 300
    },
    "id": "DviOqN1zYy1-",
    "outputId": "f459a647-bb34-4113-d388-4c742609e07a"
   },
   "outputs": [],
   "source": [
    "# instance.evaluate_confusion_matrix(y, model_full.predict(X), 'Movement', 0)"
   ]
  },
  {
   "cell_type": "code",
   "execution_count": 14,
   "metadata": {
    "executionInfo": {
     "elapsed": 96,
     "status": "ok",
     "timestamp": 1733623988134,
     "user": {
      "displayName": "Benjamin Weber",
      "userId": "05365051417082569684"
     },
     "user_tz": 300
    },
    "id": "pqicSGDMbNHg"
   },
   "outputs": [],
   "source": [
    "y = pd.DataFrame(y)"
   ]
  },
  {
   "cell_type": "code",
   "execution_count": 16,
   "metadata": {
    "colab": {
     "base_uri": "https://localhost:8080/"
    },
    "executionInfo": {
     "elapsed": 264,
     "status": "ok",
     "timestamp": 1733549548127,
     "user": {
      "displayName": "Benjamin Weber",
      "userId": "05365051417082569684"
     },
     "user_tz": 300
    },
    "id": "T9soyOTec-5F",
    "outputId": "94694419-8822-41b6-dbd5-d42ab8a45a7a"
   },
   "outputs": [
    {
     "data": {
      "text/plain": [
       "(array([0.        , 0.72619048, 1.        ]),\n",
       " array([0.        , 0.74193548, 1.        ]),\n",
       " array([inf,  1.,  0.]))"
      ]
     },
     "execution_count": 16,
     "metadata": {},
     "output_type": "execute_result"
    }
   ],
   "source": [
    "roc_curve(y, model_full.predict(X))"
   ]
  },
  {
   "cell_type": "code",
   "execution_count": 17,
   "metadata": {
    "colab": {
     "base_uri": "https://localhost:8080/",
     "height": 472
    },
    "executionInfo": {
     "elapsed": 415,
     "status": "ok",
     "timestamp": 1733623995170,
     "user": {
      "displayName": "Benjamin Weber",
      "userId": "05365051417082569684"
     },
     "user_tz": 300
    },
    "id": "eWzxpCjLdltn",
    "outputId": "c17d45e3-ad3a-45c7-b895-934940afbf8c"
   },
   "outputs": [
    {
     "data": {
      "image/png": "[encoded data removed]",
      "text/plain": [
       "<Figure size 640x480 with 1 Axes>"
      ]
     },
     "metadata": {},
     "output_type": "display_data"
    }
   ],
   "source": [
    "fpr, tpr, _ = roc_curve(y, model_full.predict(X))\n",
    "roc_auc = auc(fpr, tpr)\n",
    "\n",
    "# Step 5: Plot the ROC Curve\n",
    "plt.figure()\n",
    "plt.plot(fpr, tpr, color='darkorange', lw=2, label='ROC curve (area = %0.2f)' % roc_auc)\n",
    "plt.plot([0, 1], [0, 1], color='navy', lw=2, linestyle='--')\n",
    "plt.xlim([0.0, 1.0])\n",
    "plt.ylim([0.0, 1.05])\n",
    "plt.xlabel('False Positive Rate')\n",
    "plt.ylabel('True Positive Rate')\n",
    "plt.title('Receiver Operating Characteristic for Reddit Sentiment Classifier Stock Price Model')\n",
    "plt.legend(loc=\"lower right\")\n",
    "plt.show()"
   ]
  },
  {
   "cell_type": "code",
   "execution_count": 18,
   "metadata": {
    "colab": {
     "base_uri": "https://localhost:8080/"
    },
    "executionInfo": {
     "elapsed": 251,
     "status": "ok",
     "timestamp": 1733550454229,
     "user": {
      "displayName": "Benjamin Weber",
      "userId": "05365051417082569684"
     },
     "user_tz": 300
    },
    "id": "Q-b8J_4TfTjH",
    "outputId": "7af8716c-778e-4987-ef40-d90d69caada1"
   },
   "outputs": [
    {
     "name": "stdout",
     "output_type": "stream",
     "text": [
      "Full model summary:\n",
      "                 Generalized Linear Model Regression Results                  \n",
      "==============================================================================\n",
      "Dep. Variable:               Movement   No. Observations:                  177\n",
      "Model:                            GLM   Df Residuals:                      170\n",
      "Model Family:                Binomial   Df Model:                            6\n",
      "Link Function:                  Logit   Scale:                          1.0000\n",
      "Method:                          IRLS   Log-Likelihood:                -118.84\n",
      "Date:                Sat, 25 Oct 2025   Deviance:                       237.68\n",
      "Time:                        13:44:46   Pearson chi2:                     176.\n",
      "No. Iterations:                     4   Pseudo R-squ. (CS):            0.04006\n",
      "Covariance Type:            nonrobust                                         \n",
      "==============================================================================================\n",
      "                                 coef    std err          z      P>|z|      [0.025      0.975]\n",
      "----------------------------------------------------------------------------------------------\n",
      "const                         -0.4647      0.400     -1.161      0.246      -1.249       0.320\n",
      "post title sentiment_score     0.3972      0.838      0.474      0.636      -1.245       2.040\n",
      "post body sentiment_score     -0.5086      0.573     -0.887      0.375      -1.632       0.615\n",
      "comment sentiment_score        1.9587      1.067      1.835      0.066      -0.133       4.051\n",
      "Volume                     -1.111e-08    8.7e-09     -1.278      0.201   -2.82e-08    5.93e-09\n",
      "Volume MA                   1.336e-08   9.09e-09      1.470      0.142   -4.46e-09    3.12e-08\n",
      "Previous Movement              0.0336      0.313      0.107      0.914      -0.579       0.646\n",
      "==============================================================================================\n",
      "\n",
      "Reduced model summary:\n",
      "                 Generalized Linear Model Regression Results                  \n",
      "==============================================================================\n",
      "Dep. Variable:               Movement   No. Observations:                  177\n",
      "Model:                            GLM   Df Residuals:                      173\n",
      "Model Family:                Binomial   Df Model:                            3\n",
      "Link Function:                  Logit   Scale:                          1.0000\n",
      "Method:                          IRLS   Log-Likelihood:                -121.14\n",
      "Date:                Sat, 25 Oct 2025   Deviance:                       242.27\n",
      "Time:                        13:44:46   Pearson chi2:                     177.\n",
      "No. Iterations:                     4   Pseudo R-squ. (CS):            0.01483\n",
      "Covariance Type:            nonrobust                                         \n",
      "=====================================================================================\n",
      "                        coef    std err          z      P>|z|      [0.025      0.975]\n",
      "-------------------------------------------------------------------------------------\n",
      "const                -0.0891      0.324     -0.275      0.783      -0.724       0.546\n",
      "Volume            -1.264e-08   8.52e-09     -1.482      0.138   -2.93e-08    4.07e-09\n",
      "Volume MA          1.386e-08    8.9e-09      1.558      0.119   -3.57e-09    3.13e-08\n",
      "Previous Movement     0.1293      0.304      0.425      0.671      -0.467       0.726\n",
      "=====================================================================================\n",
      "\n"
     ]
    }
   ],
   "source": [
    "features = sm.add_constant(X.reset_index(drop=True))\n",
    "reduced_features = features.drop(columns=['post title sentiment_score', 'post body sentiment_score', 'comment sentiment_score'])\n",
    "target = y.reset_index(drop=True)\n",
    "# Fit the full logistic regression model\n",
    "model_full = sm.GLM(target, features, family=sm.families.Binomial()).fit()\n",
    "print(f\"Full model summary:\\n{model_full.summary()}\\n\")\n",
    "\n",
    "# Fit the reduced logistic regression model\n",
    "model_reduced = sm.GLM(target, reduced_features, family=sm.families.Binomial()).fit()\n",
    "print(f\"Reduced model summary:\\n{model_reduced.summary()}\\n\")"
   ]
  },
  {
   "cell_type": "code",
   "execution_count": 19,
   "metadata": {
    "colab": {
     "base_uri": "https://localhost:8080/",
     "height": 424
    },
    "executionInfo": {
     "elapsed": 305,
     "status": "ok",
     "timestamp": 1733550196717,
     "user": {
      "displayName": "Benjamin Weber",
      "userId": "05365051417082569684"
     },
     "user_tz": 300
    },
    "id": "V6eCKz6fpLsP",
    "outputId": "c0565ecc-321e-4e11-ffc9-c834863531d9"
   },
   "outputs": [
    {
     "data": {
      "text/html": [
       "<div>\n",
       "<style scoped>\n",
       "    .dataframe tbody tr th:only-of-type {\n",
       "        vertical-align: middle;\n",
       "    }\n",
       "\n",
       "    .dataframe tbody tr th {\n",
       "        vertical-align: top;\n",
       "    }\n",
       "\n",
       "    .dataframe thead th {\n",
       "        text-align: right;\n",
       "    }\n",
       "</style>\n",
       "<table border=\"1\" class=\"dataframe\">\n",
       "  <thead>\n",
       "    <tr style=\"text-align: right;\">\n",
       "      <th></th>\n",
       "      <th>Movement</th>\n",
       "    </tr>\n",
       "  </thead>\n",
       "  <tbody>\n",
       "    <tr>\n",
       "      <th>0</th>\n",
       "      <td>1</td>\n",
       "    </tr>\n",
       "    <tr>\n",
       "      <th>1</th>\n",
       "      <td>0</td>\n",
       "    </tr>\n",
       "    <tr>\n",
       "      <th>2</th>\n",
       "      <td>1</td>\n",
       "    </tr>\n",
       "    <tr>\n",
       "      <th>3</th>\n",
       "      <td>1</td>\n",
       "    </tr>\n",
       "    <tr>\n",
       "      <th>4</th>\n",
       "      <td>1</td>\n",
       "    </tr>\n",
       "    <tr>\n",
       "      <th>...</th>\n",
       "      <td>...</td>\n",
       "    </tr>\n",
       "    <tr>\n",
       "      <th>172</th>\n",
       "      <td>1</td>\n",
       "    </tr>\n",
       "    <tr>\n",
       "      <th>173</th>\n",
       "      <td>1</td>\n",
       "    </tr>\n",
       "    <tr>\n",
       "      <th>174</th>\n",
       "      <td>0</td>\n",
       "    </tr>\n",
       "    <tr>\n",
       "      <th>175</th>\n",
       "      <td>0</td>\n",
       "    </tr>\n",
       "    <tr>\n",
       "      <th>176</th>\n",
       "      <td>0</td>\n",
       "    </tr>\n",
       "  </tbody>\n",
       "</table>\n",
       "<p>177 rows × 1 columns</p>\n",
       "</div>"
      ],
      "text/plain": [
       "     Movement\n",
       "0           1\n",
       "1           0\n",
       "2           1\n",
       "3           1\n",
       "4           1\n",
       "..        ...\n",
       "172         1\n",
       "173         1\n",
       "174         0\n",
       "175         0\n",
       "176         0\n",
       "\n",
       "[177 rows x 1 columns]"
      ]
     },
     "execution_count": 19,
     "metadata": {},
     "output_type": "execute_result"
    }
   ],
   "source": [
    "target"
   ]
  },
  {
   "cell_type": "code",
   "execution_count": 20,
   "metadata": {
    "colab": {
     "base_uri": "https://localhost:8080/"
    },
    "executionInfo": {
     "elapsed": 274,
     "status": "ok",
     "timestamp": 1733550480288,
     "user": {
      "displayName": "Benjamin Weber",
      "userId": "05365051417082569684"
     },
     "user_tz": 300
    },
    "id": "0PJjvBqrlyyT",
    "outputId": "5e59b448-5d8e-49dd-8005-b2e696483f09"
   },
   "outputs": [
    {
     "name": "stdout",
     "output_type": "stream",
     "text": [
      "Chi-square statistic: 4.592390023121311\n",
      "Degrees of freedom: 3\n",
      "P-value: 0.2041958768323642\n"
     ]
    }
   ],
   "source": [
    "# Calculate the deviance (2 * log-likelihood) for both models\n",
    "deviance_full = -2 * model_full.llf\n",
    "deviance_reduced = -2 * model_reduced.llf\n",
    "\n",
    "# Calculate the chi-square test statistic\n",
    "chi_square_stat = deviance_reduced - deviance_full\n",
    "\n",
    "# Degrees of freedom is the difference in the number of parameters\n",
    "df = len(model_full.params) - len(model_reduced.params)\n",
    "\n",
    "# Calculate the p-value using the chi-square distribution\n",
    "from scipy.stats import chi2\n",
    "p_value = chi2.sf(chi_square_stat, df)\n",
    "\n",
    "print(f\"Chi-square statistic: {chi_square_stat}\")\n",
    "print(f\"Degrees of freedom: {df}\")\n",
    "print(f\"P-value: {p_value}\")"
   ]
  },
  {
   "cell_type": "code",
   "execution_count": 21,
   "metadata": {
    "executionInfo": {
     "elapsed": 99,
     "status": "ok",
     "timestamp": 1733694961312,
     "user": {
      "displayName": "Benjamin Weber",
      "userId": "05365051417082569684"
     },
     "user_tz": 300
    },
    "id": "Qv5zwHByqRkw"
   },
   "outputs": [],
   "source": [
    "aapl_x = X.loc['AAPL', :]\n",
    "aapl_y = y.loc['AAPL']\n",
    "nvda_x = X.loc['NVDA', :]\n",
    "nvda_y = y.loc['NVDA']\n",
    "amzn_x = X.loc['AMZN', :]\n",
    "amzn_y = y.loc['AMZN']\n",
    "Xs = [aapl_x, nvda_x, amzn_x]\n",
    "ys = [aapl_y, nvda_y, amzn_y]"
   ]
  },
  {
   "cell_type": "code",
   "execution_count": 22,
   "metadata": {
    "colab": {
     "base_uri": "https://localhost:8080/"
    },
    "executionInfo": {
     "elapsed": 224,
     "status": "ok",
     "timestamp": 1733695627726,
     "user": {
      "displayName": "Benjamin Weber",
      "userId": "05365051417082569684"
     },
     "user_tz": 300
    },
    "id": "Iyd2ewU4P-zZ",
    "outputId": "23223669-3c96-4c63-a516-57c38bba8f19"
   },
   "outputs": [
    {
     "name": "stdout",
     "output_type": "stream",
     "text": [
      "              precision    recall  f1-score   support\n",
      "\n",
      "           0       0.40      0.06      0.11        31\n",
      "           1       0.54      0.92      0.68        37\n",
      "\n",
      "    accuracy                           0.53        68\n",
      "   macro avg       0.47      0.49      0.40        68\n",
      "weighted avg       0.48      0.53      0.42        68\n",
      "\n",
      "accuracy: 0.5294117647058824\n",
      "              precision    recall  f1-score   support\n",
      "\n",
      "           0       0.50      0.41      0.45        32\n",
      "           1       0.58      0.67      0.62        39\n",
      "\n",
      "    accuracy                           0.55        71\n",
      "   macro avg       0.54      0.54      0.53        71\n",
      "weighted avg       0.54      0.55      0.54        71\n",
      "\n",
      "accuracy: 0.5492957746478874\n",
      "              precision    recall  f1-score   support\n",
      "\n",
      "           0       0.60      0.86      0.71        21\n",
      "           1       0.62      0.29      0.40        17\n",
      "\n",
      "    accuracy                           0.61        38\n",
      "   macro avg       0.61      0.58      0.55        38\n",
      "weighted avg       0.61      0.61      0.57        38\n",
      "\n",
      "accuracy: 0.6052631578947368\n"
     ]
    },
    {
     "name": "stderr",
     "output_type": "stream",
     "text": [
      "/Library/Frameworks/Python.framework/Versions/3.10/lib/python3.10/site-packages/sklearn/utils/validation.py:1408: DataConversionWarning: A column-vector y was passed when a 1d array was expected. Please change the shape of y to (n_samples, ), for example using ravel().\n",
      "  y = column_or_1d(y, warn=True)\n",
      "/Library/Frameworks/Python.framework/Versions/3.10/lib/python3.10/site-packages/sklearn/utils/validation.py:1408: DataConversionWarning: A column-vector y was passed when a 1d array was expected. Please change the shape of y to (n_samples, ), for example using ravel().\n",
      "  y = column_or_1d(y, warn=True)\n",
      "/Library/Frameworks/Python.framework/Versions/3.10/lib/python3.10/site-packages/sklearn/utils/validation.py:1408: DataConversionWarning: A column-vector y was passed when a 1d array was expected. Please change the shape of y to (n_samples, ), for example using ravel().\n",
      "  y = column_or_1d(y, warn=True)\n"
     ]
    }
   ],
   "source": [
    "for num, x in enumerate(Xs):\n",
    "  model = LogisticRegression()\n",
    "  model.fit(x, ys[num])\n",
    "  predictions = model.predict(x)\n",
    "  print(classification_report(ys[num], predictions))\n",
    "  print(f'accuracy: {accuracy_score(ys[num], predictions)}')\n"
   ]
  },
  {
   "cell_type": "code",
   "execution_count": null,
   "metadata": {},
   "outputs": [],
   "source": []
  }
 ],
 "metadata": {
  "colab": {
   "authorship_tag": "ABX9TyPW8n0LVK44AfZIlvXLVtDo",
   "provenance": []
  },
  "kernelspec": {
   "display_name": "Python 3 (ipykernel)",
   "language": "python",
   "name": "python3"
  },
  "language_info": {
   "codemirror_mode": {
    "name": "ipython",
    "version": 3
   },
   "file_extension": ".py",
   "mimetype": "text/x-python",
   "name": "python",
   "nbconvert_exporter": "python",
   "pygments_lexer": "ipython3",
   "version": "3.10.4"
  }
 },
 "nbformat": 4,
 "nbformat_minor": 4
}
